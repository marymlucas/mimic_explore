{
 "cells": [
  {
   "cell_type": "markdown",
   "id": "2ae16d80",
   "metadata": {},
   "source": [
    "# Exploring version 2 of MIMIC-IV"
   ]
  },
  {
   "cell_type": "markdown",
   "id": "5d997676",
   "metadata": {},
   "source": [
    "v2 released June 12, 2022 - https://physionet.org/content/mimiciv/2.0/\n",
    "\n",
    "Main changes from v1: \n",
    "- *core* module removed to simplify the schema.\n",
    "    - *admissions*, *patients*, and *transfers* table now in the *hosp* module\n",
    "- Neonates have been removed from the dataset. That data to be released in a separate project with NICU data.\n",
    "- out-of-hospital mortality is now added back in, so dod now populated with additional records from state records (an additional 15,621 patients\n",
    "- a change in the mechanism for determining patients included in MIMIC, approx 1% of stays reflected.\n",
    "- new table *omr* added (Online Medical Record)\n",
    "- other changes explained in the source linked above\n",
    "\n",
    "Goal of this notebook is to do a cursory comparison of this new version with version 1 which I explored here:  https://github.com/marymlucas/mimic_explore/blob/main/mimic_explore_1.ipynb "
   ]
  },
  {
   "cell_type": "code",
   "execution_count": 1,
   "id": "d3368447",
   "metadata": {},
   "outputs": [],
   "source": [
    "import pandas as pd\n",
    "import matplotlib.pyplot as plt\n",
    "import seaborn as sns"
   ]
  },
  {
   "cell_type": "markdown",
   "id": "355cbe45",
   "metadata": {},
   "source": [
    "## Patients Table"
   ]
  },
  {
   "cell_type": "code",
   "execution_count": 2,
   "id": "9c68b44d",
   "metadata": {},
   "outputs": [],
   "source": [
    "df_patients = pd.read_csv('D:/data/physionet/mimic-iv-2.0/hosp/patients.csv.gz')"
   ]
  },
  {
   "cell_type": "code",
   "execution_count": 3,
   "id": "91d5a8f0",
   "metadata": {},
   "outputs": [
    {
     "name": "stdout",
     "output_type": "stream",
     "text": [
      "(315460, 6)\n"
     ]
    },
    {
     "data": {
      "text/plain": [
       "315460"
      ]
     },
     "execution_count": 3,
     "metadata": {},
     "output_type": "execute_result"
    }
   ],
   "source": [
    "print(df_patients.shape)\n",
    "df_patients['subject_id'].nunique()"
   ]
  },
  {
   "cell_type": "markdown",
   "id": "2744a630",
   "metadata": {},
   "source": [
    "This is in contrast to v1 which had 382,278 distinct patients."
   ]
  },
  {
   "cell_type": "code",
   "execution_count": 4,
   "id": "3aeaf36c",
   "metadata": {},
   "outputs": [
    {
     "data": {
      "text/plain": [
       "66818"
      ]
     },
     "execution_count": 4,
     "metadata": {},
     "output_type": "execute_result"
    }
   ],
   "source": [
    "382278 - 315460"
   ]
  },
  {
   "cell_type": "code",
   "execution_count": 5,
   "id": "f8bcd613",
   "metadata": {},
   "outputs": [
    {
     "data": {
      "text/html": [
       "<div>\n",
       "<style scoped>\n",
       "    .dataframe tbody tr th:only-of-type {\n",
       "        vertical-align: middle;\n",
       "    }\n",
       "\n",
       "    .dataframe tbody tr th {\n",
       "        vertical-align: top;\n",
       "    }\n",
       "\n",
       "    .dataframe thead th {\n",
       "        text-align: right;\n",
       "    }\n",
       "</style>\n",
       "<table border=\"1\" class=\"dataframe\">\n",
       "  <thead>\n",
       "    <tr style=\"text-align: right;\">\n",
       "      <th></th>\n",
       "      <th>subject_id</th>\n",
       "      <th>gender</th>\n",
       "      <th>anchor_age</th>\n",
       "      <th>anchor_year</th>\n",
       "      <th>anchor_year_group</th>\n",
       "      <th>dod</th>\n",
       "    </tr>\n",
       "  </thead>\n",
       "  <tbody>\n",
       "    <tr>\n",
       "      <th>0</th>\n",
       "      <td>10000032</td>\n",
       "      <td>F</td>\n",
       "      <td>52</td>\n",
       "      <td>2180</td>\n",
       "      <td>2014 - 2016</td>\n",
       "      <td>2180-09-09</td>\n",
       "    </tr>\n",
       "    <tr>\n",
       "      <th>1</th>\n",
       "      <td>10000048</td>\n",
       "      <td>F</td>\n",
       "      <td>23</td>\n",
       "      <td>2126</td>\n",
       "      <td>2008 - 2010</td>\n",
       "      <td>NaN</td>\n",
       "    </tr>\n",
       "    <tr>\n",
       "      <th>2</th>\n",
       "      <td>10000068</td>\n",
       "      <td>F</td>\n",
       "      <td>19</td>\n",
       "      <td>2160</td>\n",
       "      <td>2008 - 2010</td>\n",
       "      <td>NaN</td>\n",
       "    </tr>\n",
       "    <tr>\n",
       "      <th>3</th>\n",
       "      <td>10000084</td>\n",
       "      <td>M</td>\n",
       "      <td>72</td>\n",
       "      <td>2160</td>\n",
       "      <td>2017 - 2019</td>\n",
       "      <td>2161-02-13</td>\n",
       "    </tr>\n",
       "    <tr>\n",
       "      <th>4</th>\n",
       "      <td>10000102</td>\n",
       "      <td>F</td>\n",
       "      <td>27</td>\n",
       "      <td>2136</td>\n",
       "      <td>2008 - 2010</td>\n",
       "      <td>NaN</td>\n",
       "    </tr>\n",
       "  </tbody>\n",
       "</table>\n",
       "</div>"
      ],
      "text/plain": [
       "   subject_id gender  anchor_age  anchor_year anchor_year_group         dod\n",
       "0    10000032      F          52         2180       2014 - 2016  2180-09-09\n",
       "1    10000048      F          23         2126       2008 - 2010         NaN\n",
       "2    10000068      F          19         2160       2008 - 2010         NaN\n",
       "3    10000084      M          72         2160       2017 - 2019  2161-02-13\n",
       "4    10000102      F          27         2136       2008 - 2010         NaN"
      ]
     },
     "execution_count": 5,
     "metadata": {},
     "output_type": "execute_result"
    }
   ],
   "source": [
    "df_patients.head()"
   ]
  },
  {
   "cell_type": "code",
   "execution_count": 6,
   "id": "ffbddf3a",
   "metadata": {},
   "outputs": [
    {
     "data": {
      "text/plain": [
       "count    315460.000000\n",
       "mean         48.526035\n",
       "std          20.887027\n",
       "min          18.000000\n",
       "25%          29.000000\n",
       "50%          48.000000\n",
       "75%          65.000000\n",
       "max          91.000000\n",
       "Name: anchor_age, dtype: float64"
      ]
     },
     "execution_count": 6,
     "metadata": {},
     "output_type": "execute_result"
    }
   ],
   "source": [
    "df_patients['anchor_age'].describe()"
   ]
  },
  {
   "cell_type": "markdown",
   "id": "409cc2b9",
   "metadata": {},
   "source": [
    "The minimum age is now 18, reflecting the removal of neonates. From the v1 analysis there were 60872 patients under age 18."
   ]
  },
  {
   "cell_type": "code",
   "execution_count": 7,
   "id": "023c4e52",
   "metadata": {},
   "outputs": [
    {
     "data": {
      "text/plain": [
       "gender\n",
       "F    166899\n",
       "M    148561\n",
       "dtype: int64"
      ]
     },
     "execution_count": 7,
     "metadata": {},
     "output_type": "execute_result"
    }
   ],
   "source": [
    "df_patients.groupby('gender').size()"
   ]
  },
  {
   "cell_type": "markdown",
   "id": "02dfa8d6",
   "metadata": {},
   "source": [
    "## Admissions Table"
   ]
  },
  {
   "cell_type": "code",
   "execution_count": 8,
   "id": "5d38854d",
   "metadata": {},
   "outputs": [],
   "source": [
    "df_admissions = pd.read_csv('D:/data/physionet/mimic-iv-2.0/hosp/admissions.csv.gz')"
   ]
  },
  {
   "cell_type": "code",
   "execution_count": 9,
   "id": "8e39f2de",
   "metadata": {},
   "outputs": [
    {
     "name": "stdout",
     "output_type": "stream",
     "text": [
      "(454324, 15)\n"
     ]
    },
    {
     "data": {
      "text/plain": [
       "190279"
      ]
     },
     "execution_count": 9,
     "metadata": {},
     "output_type": "execute_result"
    }
   ],
   "source": [
    "print(df_admissions.shape)\n",
    "df_admissions['subject_id'].nunique()"
   ]
  },
  {
   "cell_type": "markdown",
   "id": "0de2f7b5",
   "metadata": {},
   "source": [
    "v2 has 454,324 stays for 190,279 distinct patients in contrast to version 1 which has 523,740 stays for 256,878 distinct patients."
   ]
  },
  {
   "cell_type": "code",
   "execution_count": 10,
   "id": "2ea5574a",
   "metadata": {},
   "outputs": [
    {
     "data": {
      "text/plain": [
       "Index(['subject_id', 'hadm_id', 'admittime', 'dischtime', 'deathtime',\n",
       "       'admission_type', 'admission_location', 'discharge_location',\n",
       "       'insurance', 'language', 'marital_status', 'race', 'edregtime',\n",
       "       'edouttime', 'hospital_expire_flag'],\n",
       "      dtype='object')"
      ]
     },
     "execution_count": 10,
     "metadata": {},
     "output_type": "execute_result"
    }
   ],
   "source": [
    "df_admissions.columns"
   ]
  },
  {
   "cell_type": "code",
   "execution_count": 11,
   "id": "b0a915bf",
   "metadata": {},
   "outputs": [
    {
     "data": {
      "text/html": [
       "<div>\n",
       "<style scoped>\n",
       "    .dataframe tbody tr th:only-of-type {\n",
       "        vertical-align: middle;\n",
       "    }\n",
       "\n",
       "    .dataframe tbody tr th {\n",
       "        vertical-align: top;\n",
       "    }\n",
       "\n",
       "    .dataframe thead th {\n",
       "        text-align: right;\n",
       "    }\n",
       "</style>\n",
       "<table border=\"1\" class=\"dataframe\">\n",
       "  <thead>\n",
       "    <tr style=\"text-align: right;\">\n",
       "      <th></th>\n",
       "      <th>subject_id</th>\n",
       "      <th>hadm_id</th>\n",
       "      <th>admittime</th>\n",
       "      <th>dischtime</th>\n",
       "      <th>deathtime</th>\n",
       "      <th>admission_type</th>\n",
       "      <th>admission_location</th>\n",
       "      <th>discharge_location</th>\n",
       "      <th>insurance</th>\n",
       "      <th>language</th>\n",
       "      <th>marital_status</th>\n",
       "      <th>race</th>\n",
       "      <th>edregtime</th>\n",
       "      <th>edouttime</th>\n",
       "      <th>hospital_expire_flag</th>\n",
       "    </tr>\n",
       "  </thead>\n",
       "  <tbody>\n",
       "    <tr>\n",
       "      <th>0</th>\n",
       "      <td>10000032</td>\n",
       "      <td>22595853</td>\n",
       "      <td>2180-05-06 22:23:00</td>\n",
       "      <td>2180-05-07 17:15:00</td>\n",
       "      <td>NaN</td>\n",
       "      <td>URGENT</td>\n",
       "      <td>TRANSFER FROM HOSPITAL</td>\n",
       "      <td>HOME</td>\n",
       "      <td>Other</td>\n",
       "      <td>ENGLISH</td>\n",
       "      <td>WIDOWED</td>\n",
       "      <td>WHITE</td>\n",
       "      <td>2180-05-06 19:17:00</td>\n",
       "      <td>2180-05-06 23:30:00</td>\n",
       "      <td>0</td>\n",
       "    </tr>\n",
       "    <tr>\n",
       "      <th>1</th>\n",
       "      <td>10000032</td>\n",
       "      <td>22841357</td>\n",
       "      <td>2180-06-26 18:27:00</td>\n",
       "      <td>2180-06-27 18:49:00</td>\n",
       "      <td>NaN</td>\n",
       "      <td>EW EMER.</td>\n",
       "      <td>EMERGENCY ROOM</td>\n",
       "      <td>HOME</td>\n",
       "      <td>Medicaid</td>\n",
       "      <td>ENGLISH</td>\n",
       "      <td>WIDOWED</td>\n",
       "      <td>WHITE</td>\n",
       "      <td>2180-06-26 15:54:00</td>\n",
       "      <td>2180-06-26 21:31:00</td>\n",
       "      <td>0</td>\n",
       "    </tr>\n",
       "    <tr>\n",
       "      <th>2</th>\n",
       "      <td>10000032</td>\n",
       "      <td>25742920</td>\n",
       "      <td>2180-08-05 23:44:00</td>\n",
       "      <td>2180-08-07 17:50:00</td>\n",
       "      <td>NaN</td>\n",
       "      <td>EW EMER.</td>\n",
       "      <td>EMERGENCY ROOM</td>\n",
       "      <td>HOSPICE</td>\n",
       "      <td>Medicaid</td>\n",
       "      <td>ENGLISH</td>\n",
       "      <td>WIDOWED</td>\n",
       "      <td>WHITE</td>\n",
       "      <td>2180-08-05 20:58:00</td>\n",
       "      <td>2180-08-06 01:44:00</td>\n",
       "      <td>0</td>\n",
       "    </tr>\n",
       "    <tr>\n",
       "      <th>3</th>\n",
       "      <td>10000032</td>\n",
       "      <td>29079034</td>\n",
       "      <td>2180-07-23 12:35:00</td>\n",
       "      <td>2180-07-25 17:55:00</td>\n",
       "      <td>NaN</td>\n",
       "      <td>EW EMER.</td>\n",
       "      <td>EMERGENCY ROOM</td>\n",
       "      <td>HOME</td>\n",
       "      <td>Medicaid</td>\n",
       "      <td>ENGLISH</td>\n",
       "      <td>WIDOWED</td>\n",
       "      <td>WHITE</td>\n",
       "      <td>2180-07-23 05:54:00</td>\n",
       "      <td>2180-07-23 14:00:00</td>\n",
       "      <td>0</td>\n",
       "    </tr>\n",
       "    <tr>\n",
       "      <th>4</th>\n",
       "      <td>10000068</td>\n",
       "      <td>25022803</td>\n",
       "      <td>2160-03-03 23:16:00</td>\n",
       "      <td>2160-03-04 06:26:00</td>\n",
       "      <td>NaN</td>\n",
       "      <td>EU OBSERVATION</td>\n",
       "      <td>EMERGENCY ROOM</td>\n",
       "      <td>NaN</td>\n",
       "      <td>Other</td>\n",
       "      <td>ENGLISH</td>\n",
       "      <td>SINGLE</td>\n",
       "      <td>WHITE</td>\n",
       "      <td>2160-03-03 21:55:00</td>\n",
       "      <td>2160-03-04 06:26:00</td>\n",
       "      <td>0</td>\n",
       "    </tr>\n",
       "  </tbody>\n",
       "</table>\n",
       "</div>"
      ],
      "text/plain": [
       "   subject_id   hadm_id            admittime            dischtime deathtime  \\\n",
       "0    10000032  22595853  2180-05-06 22:23:00  2180-05-07 17:15:00       NaN   \n",
       "1    10000032  22841357  2180-06-26 18:27:00  2180-06-27 18:49:00       NaN   \n",
       "2    10000032  25742920  2180-08-05 23:44:00  2180-08-07 17:50:00       NaN   \n",
       "3    10000032  29079034  2180-07-23 12:35:00  2180-07-25 17:55:00       NaN   \n",
       "4    10000068  25022803  2160-03-03 23:16:00  2160-03-04 06:26:00       NaN   \n",
       "\n",
       "   admission_type      admission_location discharge_location insurance  \\\n",
       "0          URGENT  TRANSFER FROM HOSPITAL               HOME     Other   \n",
       "1        EW EMER.          EMERGENCY ROOM               HOME  Medicaid   \n",
       "2        EW EMER.          EMERGENCY ROOM            HOSPICE  Medicaid   \n",
       "3        EW EMER.          EMERGENCY ROOM               HOME  Medicaid   \n",
       "4  EU OBSERVATION          EMERGENCY ROOM                NaN     Other   \n",
       "\n",
       "  language marital_status   race            edregtime            edouttime  \\\n",
       "0  ENGLISH        WIDOWED  WHITE  2180-05-06 19:17:00  2180-05-06 23:30:00   \n",
       "1  ENGLISH        WIDOWED  WHITE  2180-06-26 15:54:00  2180-06-26 21:31:00   \n",
       "2  ENGLISH        WIDOWED  WHITE  2180-08-05 20:58:00  2180-08-06 01:44:00   \n",
       "3  ENGLISH        WIDOWED  WHITE  2180-07-23 05:54:00  2180-07-23 14:00:00   \n",
       "4  ENGLISH         SINGLE  WHITE  2160-03-03 21:55:00  2160-03-04 06:26:00   \n",
       "\n",
       "   hospital_expire_flag  \n",
       "0                     0  \n",
       "1                     0  \n",
       "2                     0  \n",
       "3                     0  \n",
       "4                     0  "
      ]
     },
     "execution_count": 11,
     "metadata": {},
     "output_type": "execute_result"
    }
   ],
   "source": [
    "df_admissions.head()"
   ]
  },
  {
   "cell_type": "markdown",
   "id": "eedd02f4",
   "metadata": {},
   "source": [
    "## Misc. Tables"
   ]
  },
  {
   "cell_type": "code",
   "execution_count": 12,
   "id": "78744acf",
   "metadata": {},
   "outputs": [],
   "source": [
    "df_omr = pd.read_csv('D:/data/physionet/mimic-iv-2.0/hosp/omr.csv.gz')"
   ]
  },
  {
   "cell_type": "code",
   "execution_count": 13,
   "id": "2414e287",
   "metadata": {},
   "outputs": [
    {
     "name": "stdout",
     "output_type": "stream",
     "text": [
      "(6770301, 5)\n"
     ]
    },
    {
     "data": {
      "text/html": [
       "<div>\n",
       "<style scoped>\n",
       "    .dataframe tbody tr th:only-of-type {\n",
       "        vertical-align: middle;\n",
       "    }\n",
       "\n",
       "    .dataframe tbody tr th {\n",
       "        vertical-align: top;\n",
       "    }\n",
       "\n",
       "    .dataframe thead th {\n",
       "        text-align: right;\n",
       "    }\n",
       "</style>\n",
       "<table border=\"1\" class=\"dataframe\">\n",
       "  <thead>\n",
       "    <tr style=\"text-align: right;\">\n",
       "      <th></th>\n",
       "      <th>subject_id</th>\n",
       "      <th>chartdate</th>\n",
       "      <th>seq_num</th>\n",
       "      <th>result_name</th>\n",
       "      <th>result_value</th>\n",
       "    </tr>\n",
       "  </thead>\n",
       "  <tbody>\n",
       "    <tr>\n",
       "      <th>0</th>\n",
       "      <td>10000032</td>\n",
       "      <td>2180-04-27</td>\n",
       "      <td>1</td>\n",
       "      <td>Blood Pressure</td>\n",
       "      <td>110/65</td>\n",
       "    </tr>\n",
       "    <tr>\n",
       "      <th>1</th>\n",
       "      <td>10000032</td>\n",
       "      <td>2180-04-27</td>\n",
       "      <td>1</td>\n",
       "      <td>Weight (Lbs)</td>\n",
       "      <td>94</td>\n",
       "    </tr>\n",
       "    <tr>\n",
       "      <th>2</th>\n",
       "      <td>10000032</td>\n",
       "      <td>2180-05-07</td>\n",
       "      <td>1</td>\n",
       "      <td>BMI (kg/m2)</td>\n",
       "      <td>18.0</td>\n",
       "    </tr>\n",
       "    <tr>\n",
       "      <th>3</th>\n",
       "      <td>10000032</td>\n",
       "      <td>2180-05-07</td>\n",
       "      <td>1</td>\n",
       "      <td>Height (Inches)</td>\n",
       "      <td>60</td>\n",
       "    </tr>\n",
       "    <tr>\n",
       "      <th>4</th>\n",
       "      <td>10000032</td>\n",
       "      <td>2180-05-07</td>\n",
       "      <td>1</td>\n",
       "      <td>Weight (Lbs)</td>\n",
       "      <td>92.15</td>\n",
       "    </tr>\n",
       "  </tbody>\n",
       "</table>\n",
       "</div>"
      ],
      "text/plain": [
       "   subject_id   chartdate  seq_num      result_name result_value\n",
       "0    10000032  2180-04-27        1   Blood Pressure       110/65\n",
       "1    10000032  2180-04-27        1     Weight (Lbs)           94\n",
       "2    10000032  2180-05-07        1      BMI (kg/m2)         18.0\n",
       "3    10000032  2180-05-07        1  Height (Inches)           60\n",
       "4    10000032  2180-05-07        1     Weight (Lbs)        92.15"
      ]
     },
     "execution_count": 13,
     "metadata": {},
     "output_type": "execute_result"
    }
   ],
   "source": [
    "print(df_omr.shape)\n",
    "df_omr.head()"
   ]
  },
  {
   "cell_type": "code",
   "execution_count": 14,
   "id": "737fe6ad",
   "metadata": {},
   "outputs": [
    {
     "data": {
      "text/plain": [
       "result_name\n",
       "BMI                                     583\n",
       "BMI (kg/m2)                         1747382\n",
       "Blood Pressure                      2281254\n",
       "Blood Pressure Lying                   2924\n",
       "Blood Pressure Sitting                 3648\n",
       "Blood Pressure Standing                 552\n",
       "Blood Pressure Standing (1 min)        2722\n",
       "Blood Pressure Standing (3 mins)        657\n",
       "Height                                   39\n",
       "Height (Inches)                      743399\n",
       "Weight                                  368\n",
       "Weight (Lbs)                        1986519\n",
       "eGFR                                    254\n",
       "dtype: int64"
      ]
     },
     "execution_count": 14,
     "metadata": {},
     "output_type": "execute_result"
    }
   ],
   "source": [
    "df_omr.groupby('result_name').size()"
   ]
  },
  {
   "cell_type": "code",
   "execution_count": null,
   "id": "babe3c52",
   "metadata": {},
   "outputs": [],
   "source": []
  }
 ],
 "metadata": {
  "kernelspec": {
   "display_name": "Python 3 (ipykernel)",
   "language": "python",
   "name": "python3"
  },
  "language_info": {
   "codemirror_mode": {
    "name": "ipython",
    "version": 3
   },
   "file_extension": ".py",
   "mimetype": "text/x-python",
   "name": "python",
   "nbconvert_exporter": "python",
   "pygments_lexer": "ipython3",
   "version": "3.9.5"
  }
 },
 "nbformat": 4,
 "nbformat_minor": 5
}
